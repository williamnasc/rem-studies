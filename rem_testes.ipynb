{
 "cells": [
  {
   "cell_type": "code",
   "id": "initial_id",
   "metadata": {
    "collapsed": true,
    "ExecuteTime": {
     "end_time": "2025-08-22T13:04:26.776316Z",
     "start_time": "2025-08-22T13:04:23.160092Z"
    }
   },
   "source": [
    "# Import or install Sionna\n",
    "try:\n",
    "    import sionna.rt\n",
    "except ImportError as e:\n",
    "    import os\n",
    "    os.system(\"pip install sionna-rt\")\n",
    "    import sionna.rt\n",
    "\n",
    "# Other imports\n",
    "%matplotlib inline\n",
    "import matplotlib.pyplot as plt\n",
    "import numpy as np\n",
    "\n",
    "no_preview = True # Toggle to False to use the preview widget\n",
    "\n",
    "# Import relevant components from Sionna RT\n",
    "from sionna.rt import load_scene, PlanarArray, Transmitter, Receiver, Camera,\\\n",
    "                      PathSolver, RadioMapSolver, subcarrier_frequencies"
   ],
   "outputs": [],
   "execution_count": 1
  },
  {
   "metadata": {
    "ExecuteTime": {
     "end_time": "2025-08-22T13:04:32.750894Z",
     "start_time": "2025-08-22T13:04:30.017135Z"
    }
   },
   "cell_type": "code",
   "source": [
    "# Load integrated scene\n",
    "scene = load_scene(sionna.rt.scene.munich) # Try also sionna.rt.scene.etoile"
   ],
   "id": "50e13e61af2e81c0",
   "outputs": [],
   "execution_count": 2
  },
  {
   "metadata": {},
   "cell_type": "code",
   "outputs": [],
   "execution_count": null,
   "source": [
    "if not no_preview:\n",
    "    scene.preview();"
   ],
   "id": "9c2af89e8a591be2"
  }
 ],
 "metadata": {
  "kernelspec": {
   "display_name": "Python 3",
   "language": "python",
   "name": "python3"
  },
  "language_info": {
   "codemirror_mode": {
    "name": "ipython",
    "version": 2
   },
   "file_extension": ".py",
   "mimetype": "text/x-python",
   "name": "python",
   "nbconvert_exporter": "python",
   "pygments_lexer": "ipython2",
   "version": "2.7.6"
  }
 },
 "nbformat": 4,
 "nbformat_minor": 5
}
